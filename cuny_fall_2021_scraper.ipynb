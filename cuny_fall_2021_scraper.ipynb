{
 "cells": [
  {
   "cell_type": "code",
   "execution_count": 1,
   "id": "74375348-d476-45c5-b4a9-3afbe800fda3",
   "metadata": {},
   "outputs": [],
   "source": [
    "import requests\n",
    "from bs4 import BeautifulSoup\n",
    "import pandas as pd\n",
    "from datetime import datetime\n"
   ]
  },
  {
   "cell_type": "code",
   "execution_count": 2,
   "id": "4f6babd3-e1a2-4c9e-85f9-e656f20643a7",
   "metadata": {},
   "outputs": [
    {
     "name": "stdout",
     "output_type": "stream",
     "text": [
      "Successfully fetched the page!\n"
     ]
    }
   ],
   "source": [
    "# URL of the academic calendar page\n",
    "url = \"https://www.ccny.cuny.edu/registrar/fall\"\n",
    "\n",
    "# Send a GET request to fetch the page\n",
    "response = requests.get(url)\n",
    "\n",
    "# Check if the request was successful\n",
    "if response.status_code == 200:\n",
    "    print(\"Successfully fetched the page!\")\n",
    "else:\n",
    "    print(f\"Error: {response.status_code}\")\n"
   ]
  },
  {
   "cell_type": "code",
   "execution_count": 3,
   "id": "c84f6bfc-51e8-43d5-b899-2b8d7a5f6932",
   "metadata": {},
   "outputs": [
    {
     "name": "stdout",
     "output_type": "stream",
     "text": [
      "Fall 2021 Academic Calendar | The City College of New York\n"
     ]
    }
   ],
   "source": [
    "# Parse the page content\n",
    "soup = BeautifulSoup(response.text, \"html.parser\")\n",
    "\n",
    "# Print the page title to check if parsing worked\n",
    "print(soup.title.text)\n"
   ]
  },
  {
   "cell_type": "code",
   "execution_count": 4,
   "id": "65a4828e-4dd1-4ddb-b230-e262dc958071",
   "metadata": {},
   "outputs": [
    {
     "name": "stdout",
     "output_type": "stream",
     "text": [
      "Table found!\n"
     ]
    }
   ],
   "source": [
    "# Find the calendar table\n",
    "table = soup.find(\"table\")\n",
    "\n",
    "# Check if a table was found\n",
    "if table:\n",
    "    print(\"Table found!\")\n",
    "else:\n",
    "    print(\"No table found. Check the page structure.\")\n"
   ]
  },
  {
   "cell_type": "code",
   "execution_count": 5,
   "id": "43402a65-1698-4fec-8606-bb62bb15fd83",
   "metadata": {},
   "outputs": [
    {
     "name": "stdout",
     "output_type": "stream",
     "text": [
      "Headers: ['DATES', 'DAYS', '']\n"
     ]
    },
    {
     "data": {
      "text/html": [
       "<div>\n",
       "<style scoped>\n",
       "    .dataframe tbody tr th:only-of-type {\n",
       "        vertical-align: middle;\n",
       "    }\n",
       "\n",
       "    .dataframe tbody tr th {\n",
       "        vertical-align: top;\n",
       "    }\n",
       "\n",
       "    .dataframe thead th {\n",
       "        text-align: right;\n",
       "    }\n",
       "</style>\n",
       "<table border=\"1\" class=\"dataframe\">\n",
       "  <thead>\n",
       "    <tr style=\"text-align: right;\">\n",
       "      <th></th>\n",
       "      <th>DATES</th>\n",
       "      <th>DAYS</th>\n",
       "      <th></th>\n",
       "    </tr>\n",
       "  </thead>\n",
       "  <tbody>\n",
       "    <tr>\n",
       "      <th>0</th>\n",
       "      <td>August 01</td>\n",
       "      <td>Sunday</td>\n",
       "      <td>Application for degree for January and Februar...</td>\n",
       "    </tr>\n",
       "    <tr>\n",
       "      <th>1</th>\n",
       "      <td>August 18</td>\n",
       "      <td>Wednesday</td>\n",
       "      <td>Last day to apply for Study Abroad</td>\n",
       "    </tr>\n",
       "    <tr>\n",
       "      <th>2</th>\n",
       "      <td>August 24</td>\n",
       "      <td>Tuesday</td>\n",
       "      <td>Last day of Registration;\\n\\t\\t\\tLast day to f...</td>\n",
       "    </tr>\n",
       "    <tr>\n",
       "      <th>3</th>\n",
       "      <td>August 25</td>\n",
       "      <td>Wednesday</td>\n",
       "      <td>Start of Fall Term;\\n\\t\\t\\tClasses begin;\\n\\t\\...</td>\n",
       "    </tr>\n",
       "    <tr>\n",
       "      <th>4</th>\n",
       "      <td>August 25 - 31</td>\n",
       "      <td>Wednesday - Tuesday</td>\n",
       "      <td>Change of program period; late fees apply</td>\n",
       "    </tr>\n",
       "  </tbody>\n",
       "</table>\n",
       "</div>"
      ],
      "text/plain": [
       "            DATES                 DAYS  \\\n",
       "0       August 01               Sunday   \n",
       "1       August 18            Wednesday   \n",
       "2       August 24              Tuesday   \n",
       "3       August 25            Wednesday   \n",
       "4  August 25 - 31  Wednesday - Tuesday   \n",
       "\n",
       "                                                      \n",
       "0  Application for degree for January and Februar...  \n",
       "1                 Last day to apply for Study Abroad  \n",
       "2  Last day of Registration;\\n\\t\\t\\tLast day to f...  \n",
       "3  Start of Fall Term;\\n\\t\\t\\tClasses begin;\\n\\t\\...  \n",
       "4          Change of program period; late fees apply  "
      ]
     },
     "execution_count": 5,
     "metadata": {},
     "output_type": "execute_result"
    }
   ],
   "source": [
    "# Extract table rows\n",
    "rows = table.find_all(\"tr\")\n",
    "\n",
    "# Extract headers\n",
    "headers = [header.text.strip() for header in rows[0].find_all(\"th\")]\n",
    "print(\"Headers:\", headers)\n",
    "\n",
    "# Extract data rows\n",
    "data = []\n",
    "for row in rows[1:]:  # Skip the header row\n",
    "    cols = row.find_all(\"td\")\n",
    "    cols = [col.text.strip() for col in cols]\n",
    "    data.append(cols)\n",
    "\n",
    "# Create a DataFrame\n",
    "df = pd.DataFrame(data, columns=headers)\n",
    "\n",
    "# Display the first few rows\n",
    "df.head()\n"
   ]
  },
  {
   "cell_type": "code",
   "execution_count": 6,
   "id": "a83b0bfb-f6ea-4f1a-87dc-e9397ff20fa0",
   "metadata": {},
   "outputs": [
    {
     "name": "stderr",
     "output_type": "stream",
     "text": [
      "/var/folders/c2/qfyqrsbn4y720hbl5_q8fjv80000gn/T/ipykernel_21166/2817786380.py:5: UserWarning: Could not infer format, so each element will be parsed individually, falling back to `dateutil`. To ensure parsing is consistent and as-expected, please specify a format.\n",
      "  df[\"date\"] = pd.to_datetime(df[\"date\"], errors=\"coerce\")\n"
     ]
    },
    {
     "data": {
      "text/html": [
       "<div>\n",
       "<style scoped>\n",
       "    .dataframe tbody tr th:only-of-type {\n",
       "        vertical-align: middle;\n",
       "    }\n",
       "\n",
       "    .dataframe tbody tr th {\n",
       "        vertical-align: top;\n",
       "    }\n",
       "\n",
       "    .dataframe thead th {\n",
       "        text-align: right;\n",
       "    }\n",
       "</style>\n",
       "<table border=\"1\" class=\"dataframe\">\n",
       "  <thead>\n",
       "    <tr style=\"text-align: right;\">\n",
       "      <th></th>\n",
       "      <th>date</th>\n",
       "      <th>dow</th>\n",
       "      <th>text</th>\n",
       "    </tr>\n",
       "  </thead>\n",
       "  <tbody>\n",
       "    <tr>\n",
       "      <th>0</th>\n",
       "      <td>NaT</td>\n",
       "      <td>Sunday</td>\n",
       "      <td>Application for degree for January and Februar...</td>\n",
       "    </tr>\n",
       "    <tr>\n",
       "      <th>1</th>\n",
       "      <td>NaT</td>\n",
       "      <td>Wednesday</td>\n",
       "      <td>Last day to apply for Study Abroad</td>\n",
       "    </tr>\n",
       "    <tr>\n",
       "      <th>2</th>\n",
       "      <td>NaT</td>\n",
       "      <td>Tuesday</td>\n",
       "      <td>Last day of Registration;\\n\\t\\t\\tLast day to f...</td>\n",
       "    </tr>\n",
       "    <tr>\n",
       "      <th>3</th>\n",
       "      <td>NaT</td>\n",
       "      <td>Wednesday</td>\n",
       "      <td>Start of Fall Term;\\n\\t\\t\\tClasses begin;\\n\\t\\...</td>\n",
       "    </tr>\n",
       "    <tr>\n",
       "      <th>4</th>\n",
       "      <td>2031-08-25</td>\n",
       "      <td>Wednesday - Tuesday</td>\n",
       "      <td>Change of program period; late fees apply</td>\n",
       "    </tr>\n",
       "  </tbody>\n",
       "</table>\n",
       "</div>"
      ],
      "text/plain": [
       "        date                  dow  \\\n",
       "0        NaT               Sunday   \n",
       "1        NaT            Wednesday   \n",
       "2        NaT              Tuesday   \n",
       "3        NaT            Wednesday   \n",
       "4 2031-08-25  Wednesday - Tuesday   \n",
       "\n",
       "                                                text  \n",
       "0  Application for degree for January and Februar...  \n",
       "1                 Last day to apply for Study Abroad  \n",
       "2  Last day of Registration;\\n\\t\\t\\tLast day to f...  \n",
       "3  Start of Fall Term;\\n\\t\\t\\tClasses begin;\\n\\t\\...  \n",
       "4          Change of program period; late fees apply  "
      ]
     },
     "execution_count": 6,
     "metadata": {},
     "output_type": "execute_result"
    }
   ],
   "source": [
    "# Rename columns\n",
    "df.columns = [\"date\", \"dow\", \"text\"]  # Assuming the table has these three columns\n",
    "\n",
    "# Convert 'date' column to datetime format\n",
    "df[\"date\"] = pd.to_datetime(df[\"date\"], errors=\"coerce\")\n",
    "\n",
    "# Display the cleaned DataFrame\n",
    "df.head()\n"
   ]
  },
  {
   "cell_type": "code",
   "execution_count": 7,
   "id": "c1698053-06c2-49ba-ba98-c08fb90543ea",
   "metadata": {},
   "outputs": [
    {
     "name": "stdout",
     "output_type": "stream",
     "text": [
      "Saved as cuny_fall_2021_calendar.csv\n"
     ]
    }
   ],
   "source": [
    "df.to_csv(\"cuny_fall_2021_calendar.csv\", index=False)\n",
    "print(\"Saved as cuny_fall_2021_calendar.csv\")\n"
   ]
  }
 ],
 "metadata": {
  "kernelspec": {
   "display_name": "Python 3 (ipykernel)",
   "language": "python",
   "name": "python3"
  },
  "language_info": {
   "codemirror_mode": {
    "name": "ipython",
    "version": 3
   },
   "file_extension": ".py",
   "mimetype": "text/x-python",
   "name": "python",
   "nbconvert_exporter": "python",
   "pygments_lexer": "ipython3",
   "version": "3.12.6"
  }
 },
 "nbformat": 4,
 "nbformat_minor": 5
}
